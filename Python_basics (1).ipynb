{
  "nbformat": 4,
  "nbformat_minor": 0,
  "metadata": {
    "colab": {
      "provenance": []
    },
    "kernelspec": {
      "name": "python3",
      "display_name": "Python 3"
    },
    "language_info": {
      "name": "python"
    }
  },
  "cells": [
    {
      "cell_type": "markdown",
      "source": [
        "**THEORY QUESTIONS**"
      ],
      "metadata": {
        "id": "ahF4QrN9I-4G"
      }
    },
    {
      "cell_type": "markdown",
      "source": [
        "## Ques 1: What is Python, and why is it popular ?\n",
        "# Ans- Python is a high level,versatile programming language known for its simplicity and readability.\n",
        "# Python is popular because:\n",
        "# (i) easy to learn\n",
        "# (ii) versatile(web,data,AI,automation)\n",
        "# (iii) large community\n",
        "# (iv) extensive libraries\n",
        "\n",
        "#Python's simplicity,flexibiblity and wide range of applications make it a popular choice among developers and data scientists."
      ],
      "metadata": {
        "id": "QpNXMSZYn9jG"
      }
    },
    {
      "cell_type": "markdown",
      "source": [
        "# Ques 2: What is an interpreter in Python?\n",
        "#Ans- An interpreter is a program that reads and executes python code line  by line. It converts high-level code into machine-readable instructions during runtime."
      ],
      "metadata": {
        "id": "sxQ7TumyvrQG"
      }
    },
    {
      "cell_type": "markdown",
      "source": [
        "#Ques 3: What are pre-defined keywords in Python ?\n",
        "#Ans- Keywords are reserved words that have special meaning in python.They are used to define the syntax and structure of python programs.\n",
        "#Examples: if,for,while,def,class,True,False,None,return etc."
      ],
      "metadata": {
        "id": "NiVGUs5xweJO"
      }
    },
    {
      "cell_type": "markdown",
      "source": [
        "#Ques 4:Can keywords be used as variable names ?\n",
        "#Ans: No, keywords cannot be used as variables names because they are reserved for Python's syntax.\n",
        "\n"
      ],
      "metadata": {
        "id": "NhBdmG1ixB5Q"
      }
    },
    {
      "cell_type": "markdown",
      "source": [
        "#Ques 5: What is mutability in Python ?\n",
        "#Ans- Mutability refers to whether an object's value can be changed after it is created.\n",
        "#-Mutability : Can be changed (e.g. list,dict)\n",
        "#- Immutable: Cannot be changed (e.g. tuple, str)"
      ],
      "metadata": {
        "id": "CE0OG56PxWSj"
      }
    },
    {
      "cell_type": "markdown",
      "source": [
        "#Ques 6:Why are lists mutable, but tuples are immutable ?\n",
        "#Ans: Lists are designed for data that may change - you can add, remove or modify items.\n",
        "#Tuples are meant to store fixed collections of data,often used for safety and performance."
      ],
      "metadata": {
        "id": "Bgknok9FzWyN"
      }
    },
    {
      "cell_type": "markdown",
      "source": [
        "#Ques 7: What is the difference between “==” and “is” operators in Python ?\n",
        "#Ans: \"==\" checks value equality\n",
        "# \"a==b\" true if both values are equal.\n",
        "# \"is\" checks identity\n",
        "# \"a is b\" true if both point to the same object\n"
      ],
      "metadata": {
        "id": "e_-kSIchzyDb"
      }
    },
    {
      "cell_type": "markdown",
      "source": [
        "#Ques 8:What are logical operators in Python ?\n",
        "#Ans: \"and\" - true if both operands are true.\n",
        "# \"or\" - true if atleast one operand is true.\n",
        "# \"not\" - reverse the truth value.\n",
        "#Example-\n",
        "#python\n",
        "#x=10\n",
        "#print(x>5 and x<20)\n",
        "#true"
      ],
      "metadata": {
        "id": "hHLKJsksDspv"
      }
    },
    {
      "cell_type": "markdown",
      "source": [
        "#Ques 9: What is type casting in Python ?\n",
        "# Type casting is converting a variable from one data type to another.\n",
        "#Example:\n",
        "#python\n",
        "#x=int(\"5\") #string to integar"
      ],
      "metadata": {
        "id": "XCVMdu3kEi2h"
      }
    },
    {
      "cell_type": "markdown",
      "source": [
        "#Ques 10: What is the difference between implicit and explicit type casting?\n",
        "#Implicit- Python automatically converts\n",
        "#3+4.5->7.5(int+float->float)\n",
        "#Explicit- Manually done by the programmer\n",
        "#int(\"5\"), float (\"3.14\")\n"
      ],
      "metadata": {
        "id": "8uMT774oE9C3"
      }
    },
    {
      "cell_type": "markdown",
      "source": [
        "#Ques 11: What is the purpose of conditional statements in Python ?\n",
        "#Ans: Conditional statements control the flow of a program based on conditions.\n",
        "#They allow program to make decisions.\n",
        "#Example:\n",
        "#python\n",
        "#if age>=18:\n",
        "#  print(\"You can vote\")\n"
      ],
      "metadata": {
        "id": "70hqzRZtFhPF"
      }
    },
    {
      "cell_type": "markdown",
      "source": [
        "#Ques 12:How does the elif statement work ?\n",
        "#Ans: elif(else if) checks another condition if the previous if was False\n",
        "#Example:\n",
        "#python\n",
        "#if score>90:\n",
        "# print(\"A\")\n",
        "#elif score>80:\n",
        "# print(\"B\")\n",
        "#else\n",
        "# print(\"C\")"
      ],
      "metadata": {
        "id": "BLorZOa1GmaX"
      }
    },
    {
      "cell_type": "markdown",
      "source": [
        "#Ques 13: What is the difference between for and while loops ?\n",
        "#Ans: for loop- known number of iterations\n",
        "# for i in range(5):\n",
        "#while loop- unknown number, based on condition\n",
        "#while x<5:\n",
        "\n"
      ],
      "metadata": {
        "id": "vYJO1B7bHM2N"
      }
    },
    {
      "cell_type": "markdown",
      "source": [
        "#Ques 14:  Describe a scenario where a while loop is more suitable than a for loop?\n",
        "#Ans- USER INPUT VALDATION\n",
        "#python\n",
        "#password=\"\"\n",
        "#while password !=\"secret\":\n",
        "#  password=input(\"Enter password:\")\n",
        "#print(\"Access granted\")\n",
        "#Use while when you don't know how many times the loop should run - it continues until a condition is met."
      ],
      "metadata": {
        "id": "iXmON2R3H_Ge"
      }
    },
    {
      "cell_type": "markdown",
      "source": [
        "**PRACTICAL QUESTIONS**"
      ],
      "metadata": {
        "id": "BBwgv7P-JW6e"
      }
    },
    {
      "cell_type": "code",
      "source": [
        "#Q1 Write a Python program to print \"Hello, World!\n",
        "print(\"Hello world\")"
      ],
      "metadata": {
        "id": "Pi_F6PXQxT62",
        "colab": {
          "base_uri": "https://localhost:8080/"
        },
        "outputId": "4b21c1d9-87c6-4d75-f981-d7d281576b83"
      },
      "execution_count": 1,
      "outputs": [
        {
          "output_type": "stream",
          "name": "stdout",
          "text": [
            "Hello world\n"
          ]
        }
      ]
    },
    {
      "cell_type": "code",
      "source": [
        "#Q2 Write a Python program that displays your name and age\n",
        "print(\"Name - Akrati Agarwal\")\n",
        "print(\"Age - 19\")"
      ],
      "metadata": {
        "colab": {
          "base_uri": "https://localhost:8080/"
        },
        "id": "60woX4PzJjCG",
        "outputId": "78b14c03-fd33-4fdf-848c-c80d9a06863c"
      },
      "execution_count": null,
      "outputs": [
        {
          "output_type": "stream",
          "name": "stdout",
          "text": [
            "Name - Akrati Agarwal\n",
            "Age - 19\n"
          ]
        }
      ]
    },
    {
      "cell_type": "code",
      "source": [
        "#Q3 Write code to print all the pre-defined keywords in Python using the keyword library\n",
        "library=help(\"keywords\")\n",
        "library"
      ],
      "metadata": {
        "colab": {
          "base_uri": "https://localhost:8080/"
        },
        "id": "rCA7jY9uMLBu",
        "outputId": "5e5cc265-5fb4-4305-df36-68a243351334"
      },
      "execution_count": null,
      "outputs": [
        {
          "output_type": "stream",
          "name": "stdout",
          "text": [
            "\n",
            "Here is a list of the Python keywords.  Enter any keyword to get more help.\n",
            "\n",
            "False               class               from                or\n",
            "None                continue            global              pass\n",
            "True                def                 if                  raise\n",
            "and                 del                 import              return\n",
            "as                  elif                in                  try\n",
            "assert              else                is                  while\n",
            "async               except              lambda              with\n",
            "await               finally             nonlocal            yield\n",
            "break               for                 not                 \n",
            "\n"
          ]
        }
      ]
    },
    {
      "cell_type": "code",
      "source": [
        "#Q4 Write a program that checks if a given word is a Python keyword.\n",
        "_keyword=\"if\"\n",
        "help(\"keywords\")\n",
        "if keyword.iskeyword(_keyword):\n",
        "  print(_keyword,\"is a keyword\")\n",
        "else:\n",
        "  print(_keyword,\"is not a keyword\")"
      ],
      "metadata": {
        "id": "ygjau7b2Sy3o",
        "colab": {
          "base_uri": "https://localhost:8080/",
          "height": 436
        },
        "outputId": "060947d2-963d-455d-f069-5e0d593e1fae"
      },
      "execution_count": 2,
      "outputs": [
        {
          "output_type": "stream",
          "name": "stdout",
          "text": [
            "\n",
            "Here is a list of the Python keywords.  Enter any keyword to get more help.\n",
            "\n",
            "False               class               from                or\n",
            "None                continue            global              pass\n",
            "True                def                 if                  raise\n",
            "and                 del                 import              return\n",
            "as                  elif                in                  try\n",
            "assert              else                is                  while\n",
            "async               except              lambda              with\n",
            "await               finally             nonlocal            yield\n",
            "break               for                 not                 \n",
            "\n"
          ]
        },
        {
          "output_type": "error",
          "ename": "NameError",
          "evalue": "name 'keyword' is not defined",
          "traceback": [
            "\u001b[0;31m---------------------------------------------------------------------------\u001b[0m",
            "\u001b[0;31mNameError\u001b[0m                                 Traceback (most recent call last)",
            "\u001b[0;32m<ipython-input-2-286c353ae395>\u001b[0m in \u001b[0;36m<cell line: 0>\u001b[0;34m()\u001b[0m\n\u001b[1;32m      2\u001b[0m \u001b[0m_keyword\u001b[0m\u001b[0;34m=\u001b[0m\u001b[0;34m\"if\"\u001b[0m\u001b[0;34m\u001b[0m\u001b[0;34m\u001b[0m\u001b[0m\n\u001b[1;32m      3\u001b[0m \u001b[0mhelp\u001b[0m\u001b[0;34m(\u001b[0m\u001b[0;34m\"keywords\"\u001b[0m\u001b[0;34m)\u001b[0m\u001b[0;34m\u001b[0m\u001b[0;34m\u001b[0m\u001b[0m\n\u001b[0;32m----> 4\u001b[0;31m \u001b[0;32mif\u001b[0m \u001b[0mkeyword\u001b[0m\u001b[0;34m.\u001b[0m\u001b[0miskeyword\u001b[0m\u001b[0;34m(\u001b[0m\u001b[0m_keyword\u001b[0m\u001b[0;34m)\u001b[0m\u001b[0;34m:\u001b[0m\u001b[0;34m\u001b[0m\u001b[0;34m\u001b[0m\u001b[0m\n\u001b[0m\u001b[1;32m      5\u001b[0m   \u001b[0mprint\u001b[0m\u001b[0;34m(\u001b[0m\u001b[0m_keyword\u001b[0m\u001b[0;34m,\u001b[0m\u001b[0;34m\"is a keyword\"\u001b[0m\u001b[0;34m)\u001b[0m\u001b[0;34m\u001b[0m\u001b[0;34m\u001b[0m\u001b[0m\n\u001b[1;32m      6\u001b[0m \u001b[0;32melse\u001b[0m\u001b[0;34m:\u001b[0m\u001b[0;34m\u001b[0m\u001b[0;34m\u001b[0m\u001b[0m\n",
            "\u001b[0;31mNameError\u001b[0m: name 'keyword' is not defined"
          ]
        }
      ]
    },
    {
      "cell_type": "code",
      "source": [
        "#Q5 Create a list and tuple in Python, and demonstrate how attempting to change an element works differently for each.\n",
        "list=[5,9.4,5+2j,\"Mahi\"]\n",
        "list"
      ],
      "metadata": {
        "id": "aOFLJGgQT4hY",
        "colab": {
          "base_uri": "https://localhost:8080/"
        },
        "outputId": "78dd01fd-2458-45ef-ef88-3b6c677fb766"
      },
      "execution_count": 15,
      "outputs": [
        {
          "output_type": "execute_result",
          "data": {
            "text/plain": [
              "[5, 9.4, (5+2j), 'Mahi']"
            ]
          },
          "metadata": {},
          "execution_count": 15
        }
      ]
    },
    {
      "cell_type": "code",
      "source": [
        "list[3] = \"Akrati\"\n",
        "list"
      ],
      "metadata": {
        "colab": {
          "base_uri": "https://localhost:8080/"
        },
        "id": "U7tTiTerbwHX",
        "outputId": "65233aaf-2ebd-4285-9178-404aa52c06f5"
      },
      "execution_count": 16,
      "outputs": [
        {
          "output_type": "execute_result",
          "data": {
            "text/plain": [
              "[5, 9.4, (5+2j), 'Akrati']"
            ]
          },
          "metadata": {},
          "execution_count": 16
        }
      ]
    },
    {
      "cell_type": "code",
      "source": [
        "tuple=(4.5,8+5j,9.8,\"Mahi\")\n",
        "tuple"
      ],
      "metadata": {
        "colab": {
          "base_uri": "https://localhost:8080/"
        },
        "id": "qdkj6kxLV6IJ",
        "outputId": "a9a24bdb-b716-4e3c-d7ca-5f94abf7c2f0"
      },
      "execution_count": null,
      "outputs": [
        {
          "output_type": "execute_result",
          "data": {
            "text/plain": [
              "(4.5, (8+5j), 9.8, 'Mahi')"
            ]
          },
          "metadata": {},
          "execution_count": 28
        }
      ]
    },
    {
      "cell_type": "code",
      "source": [
        "tuple[0] = 2\n",
        "tuple\n",
        "# tuple cannot be modified"
      ],
      "metadata": {
        "colab": {
          "base_uri": "https://localhost:8080/",
          "height": 176
        },
        "id": "lTVBskDWWHFR",
        "outputId": "984fb5c4-d78f-46e7-877c-795fc3e3b9c9"
      },
      "execution_count": 10,
      "outputs": [
        {
          "output_type": "error",
          "ename": "TypeError",
          "evalue": "'type' object does not support item assignment",
          "traceback": [
            "\u001b[0;31m---------------------------------------------------------------------------\u001b[0m",
            "\u001b[0;31mTypeError\u001b[0m                                 Traceback (most recent call last)",
            "\u001b[0;32m<ipython-input-10-d798bdcbc2d2>\u001b[0m in \u001b[0;36m<cell line: 0>\u001b[0;34m()\u001b[0m\n\u001b[0;32m----> 1\u001b[0;31m \u001b[0mtuple\u001b[0m\u001b[0;34m[\u001b[0m\u001b[0;36m0\u001b[0m\u001b[0;34m]\u001b[0m \u001b[0;34m=\u001b[0m \u001b[0;36m2\u001b[0m\u001b[0;34m\u001b[0m\u001b[0;34m\u001b[0m\u001b[0m\n\u001b[0m\u001b[1;32m      2\u001b[0m \u001b[0mtuple\u001b[0m\u001b[0;34m\u001b[0m\u001b[0;34m\u001b[0m\u001b[0m\n\u001b[1;32m      3\u001b[0m \u001b[0;31m# tuple cannot be modified\u001b[0m\u001b[0;34m\u001b[0m\u001b[0;34m\u001b[0m\u001b[0m\n",
            "\u001b[0;31mTypeError\u001b[0m: 'type' object does not support item assignment"
          ]
        }
      ]
    },
    {
      "cell_type": "code",
      "source": [
        "#Q6  Write a function to demonstrate the behavior of mutable and immutable arguments.\n",
        "#Mutability\n",
        "list=[2,4,5+7j,\"Mahi\"]\n",
        "list[0]=2\n",
        "list\n",
        "#mutable functions can be modified"
      ],
      "metadata": {
        "colab": {
          "base_uri": "https://localhost:8080/"
        },
        "id": "KNv0EzxdWLuL",
        "outputId": "16fc3023-9674-4510-ff80-919219fb93ce"
      },
      "execution_count": null,
      "outputs": [
        {
          "output_type": "execute_result",
          "data": {
            "text/plain": [
              "[2, 4, (5+7j), 'Mahi']"
            ]
          },
          "metadata": {},
          "execution_count": 35
        }
      ]
    },
    {
      "cell_type": "code",
      "source": [
        "#Immutability\n",
        "tuple=(80,8,9.6,\"ankush\")\n",
        "tuple[3]=5\n",
        "#immutable functions cannot be modified"
      ],
      "metadata": {
        "colab": {
          "base_uri": "https://localhost:8080/",
          "height": 193
        },
        "id": "zAW0d5qVW0bb",
        "outputId": "760cfb8c-b5ba-4904-d39e-bb92acb00696"
      },
      "execution_count": null,
      "outputs": [
        {
          "output_type": "error",
          "ename": "TypeError",
          "evalue": "'tuple' object does not support item assignment",
          "traceback": [
            "\u001b[0;31m---------------------------------------------------------------------------\u001b[0m",
            "\u001b[0;31mTypeError\u001b[0m                                 Traceback (most recent call last)",
            "\u001b[0;32m<ipython-input-37-f56997417d93>\u001b[0m in \u001b[0;36m<cell line: 0>\u001b[0;34m()\u001b[0m\n\u001b[1;32m      1\u001b[0m \u001b[0;31m#Immutability\u001b[0m\u001b[0;34m\u001b[0m\u001b[0;34m\u001b[0m\u001b[0m\n\u001b[1;32m      2\u001b[0m \u001b[0mtuple\u001b[0m\u001b[0;34m=\u001b[0m\u001b[0;34m(\u001b[0m\u001b[0;36m80\u001b[0m\u001b[0;34m,\u001b[0m\u001b[0;36m8\u001b[0m\u001b[0;34m,\u001b[0m\u001b[0;36m9.6\u001b[0m\u001b[0;34m,\u001b[0m\u001b[0;34m\"ankush\"\u001b[0m\u001b[0;34m)\u001b[0m\u001b[0;34m\u001b[0m\u001b[0;34m\u001b[0m\u001b[0m\n\u001b[0;32m----> 3\u001b[0;31m \u001b[0mtuple\u001b[0m\u001b[0;34m[\u001b[0m\u001b[0;36m3\u001b[0m\u001b[0;34m]\u001b[0m\u001b[0;34m=\u001b[0m\u001b[0;36m5\u001b[0m\u001b[0;34m\u001b[0m\u001b[0;34m\u001b[0m\u001b[0m\n\u001b[0m\u001b[1;32m      4\u001b[0m \u001b[0;31m#immutable functions cannot be modified\u001b[0m\u001b[0;34m\u001b[0m\u001b[0;34m\u001b[0m\u001b[0m\n",
            "\u001b[0;31mTypeError\u001b[0m: 'tuple' object does not support item assignment"
          ]
        }
      ]
    },
    {
      "cell_type": "code",
      "source": [
        "#Q7 Write a program that performs basic arithmetic operations on two user-input numbers.\n",
        "a=8\n",
        "b=5\n",
        "a+b"
      ],
      "metadata": {
        "colab": {
          "base_uri": "https://localhost:8080/"
        },
        "id": "X-XEz4n7XGD0",
        "outputId": "1ffcd303-3881-40d4-94aa-d1a53279e9b1"
      },
      "execution_count": null,
      "outputs": [
        {
          "output_type": "execute_result",
          "data": {
            "text/plain": [
              "13"
            ]
          },
          "metadata": {},
          "execution_count": 38
        }
      ]
    },
    {
      "cell_type": "code",
      "source": [
        "a*b"
      ],
      "metadata": {
        "colab": {
          "base_uri": "https://localhost:8080/"
        },
        "id": "9YKVTz7dXWll",
        "outputId": "08993360-4ce9-4b51-dad5-88804f78f9f6"
      },
      "execution_count": null,
      "outputs": [
        {
          "output_type": "execute_result",
          "data": {
            "text/plain": [
              "40"
            ]
          },
          "metadata": {},
          "execution_count": 39
        }
      ]
    },
    {
      "cell_type": "code",
      "source": [
        "a-b"
      ],
      "metadata": {
        "colab": {
          "base_uri": "https://localhost:8080/"
        },
        "id": "-OjYFuPLXYZ_",
        "outputId": "0bf64dcb-b539-44de-801a-6b5eddc3323e"
      },
      "execution_count": null,
      "outputs": [
        {
          "output_type": "execute_result",
          "data": {
            "text/plain": [
              "3"
            ]
          },
          "metadata": {},
          "execution_count": 40
        }
      ]
    },
    {
      "cell_type": "code",
      "source": [
        "a%b"
      ],
      "metadata": {
        "colab": {
          "base_uri": "https://localhost:8080/"
        },
        "id": "r_t0jUCeXawF",
        "outputId": "98afc26e-23ed-4850-bc9a-8fdc5124e3d7"
      },
      "execution_count": null,
      "outputs": [
        {
          "output_type": "execute_result",
          "data": {
            "text/plain": [
              "3"
            ]
          },
          "metadata": {},
          "execution_count": 41
        }
      ]
    },
    {
      "cell_type": "code",
      "source": [
        "a=20\n",
        "b=2\n",
        "a/b"
      ],
      "metadata": {
        "colab": {
          "base_uri": "https://localhost:8080/"
        },
        "id": "zWOf5xZcXcqI",
        "outputId": "49bcf5c6-0214-40bf-f022-870885b11210"
      },
      "execution_count": null,
      "outputs": [
        {
          "output_type": "execute_result",
          "data": {
            "text/plain": [
              "10.0"
            ]
          },
          "metadata": {},
          "execution_count": 43
        }
      ]
    },
    {
      "cell_type": "code",
      "source": [
        "#Q8 Write a program to demonstrate the use of logical operators.\n",
        "True and True"
      ],
      "metadata": {
        "colab": {
          "base_uri": "https://localhost:8080/"
        },
        "id": "3U8hQiWeXgup",
        "outputId": "5f636fc1-92c5-4bfe-fed3-7a753ff47ac7"
      },
      "execution_count": null,
      "outputs": [
        {
          "output_type": "execute_result",
          "data": {
            "text/plain": [
              "True"
            ]
          },
          "metadata": {},
          "execution_count": 44
        }
      ]
    },
    {
      "cell_type": "code",
      "source": [
        "False or True"
      ],
      "metadata": {
        "colab": {
          "base_uri": "https://localhost:8080/"
        },
        "id": "Wpqs2vEtXpf4",
        "outputId": "bac91c38-0c76-4049-8575-bd4a69ad4560"
      },
      "execution_count": null,
      "outputs": [
        {
          "output_type": "execute_result",
          "data": {
            "text/plain": [
              "True"
            ]
          },
          "metadata": {},
          "execution_count": 45
        }
      ]
    },
    {
      "cell_type": "code",
      "source": [
        "False and False"
      ],
      "metadata": {
        "colab": {
          "base_uri": "https://localhost:8080/"
        },
        "id": "Gx8ENHCVXsiH",
        "outputId": "17924de9-2dca-416c-ac5a-a3c73403b53f"
      },
      "execution_count": null,
      "outputs": [
        {
          "output_type": "execute_result",
          "data": {
            "text/plain": [
              "False"
            ]
          },
          "metadata": {},
          "execution_count": 46
        }
      ]
    },
    {
      "cell_type": "code",
      "source": [
        "False or False"
      ],
      "metadata": {
        "colab": {
          "base_uri": "https://localhost:8080/"
        },
        "id": "tWQD4KT7XvZ7",
        "outputId": "83c8e07d-bf4c-4171-a690-18563520d3eb"
      },
      "execution_count": null,
      "outputs": [
        {
          "output_type": "execute_result",
          "data": {
            "text/plain": [
              "False"
            ]
          },
          "metadata": {},
          "execution_count": 47
        }
      ]
    },
    {
      "cell_type": "code",
      "source": [
        "#Q9  Write a Python program to convert user input from string to integer, float, and boolean types\n",
        "a = \"60\"\n",
        "type(a)"
      ],
      "metadata": {
        "colab": {
          "base_uri": "https://localhost:8080/"
        },
        "id": "eDjGWqNxXwx3",
        "outputId": "5bb6b7ca-5ce5-42fa-e7a4-ed636ae98ae6"
      },
      "execution_count": null,
      "outputs": [
        {
          "output_type": "execute_result",
          "data": {
            "text/plain": [
              "str"
            ]
          },
          "metadata": {},
          "execution_count": 49
        }
      ]
    },
    {
      "cell_type": "code",
      "source": [
        "int(a)"
      ],
      "metadata": {
        "colab": {
          "base_uri": "https://localhost:8080/"
        },
        "id": "cn4QUipiX_D-",
        "outputId": "5dc6e5d2-7b94-4bba-e81e-821dddda376d"
      },
      "execution_count": null,
      "outputs": [
        {
          "output_type": "execute_result",
          "data": {
            "text/plain": [
              "60"
            ]
          },
          "metadata": {},
          "execution_count": 50
        }
      ]
    },
    {
      "cell_type": "code",
      "source": [
        "float(a)"
      ],
      "metadata": {
        "colab": {
          "base_uri": "https://localhost:8080/"
        },
        "id": "A-xR7VdMYChf",
        "outputId": "5c123fb7-a68b-4cfa-93ae-366674f958a7"
      },
      "execution_count": null,
      "outputs": [
        {
          "output_type": "execute_result",
          "data": {
            "text/plain": [
              "60.0"
            ]
          },
          "metadata": {},
          "execution_count": 52
        }
      ]
    },
    {
      "cell_type": "code",
      "source": [
        "bool(a)"
      ],
      "metadata": {
        "colab": {
          "base_uri": "https://localhost:8080/"
        },
        "id": "QXFF2vwoYEgM",
        "outputId": "1b0eefb9-d3f0-4b0e-ad63-76758916f033"
      },
      "execution_count": null,
      "outputs": [
        {
          "output_type": "execute_result",
          "data": {
            "text/plain": [
              "True"
            ]
          },
          "metadata": {},
          "execution_count": 54
        }
      ]
    },
    {
      "cell_type": "code",
      "source": [
        "#Q10 Write code to demonstrate type casting with list elements.\n",
        "list=[\"5\",6,7.3,0,8]\n",
        "type(list[0])"
      ],
      "metadata": {
        "colab": {
          "base_uri": "https://localhost:8080/"
        },
        "id": "btZCCjI8YITn",
        "outputId": "6374845e-383f-45d6-bfe3-62afb7326cee"
      },
      "execution_count": null,
      "outputs": [
        {
          "output_type": "execute_result",
          "data": {
            "text/plain": [
              "str"
            ]
          },
          "metadata": {},
          "execution_count": 55
        }
      ]
    },
    {
      "cell_type": "code",
      "source": [
        "int(list[0])"
      ],
      "metadata": {
        "colab": {
          "base_uri": "https://localhost:8080/"
        },
        "id": "Kgsn6emSYsGN",
        "outputId": "42494db1-de57-444c-b1aa-5f45f145f496"
      },
      "execution_count": null,
      "outputs": [
        {
          "output_type": "execute_result",
          "data": {
            "text/plain": [
              "5"
            ]
          },
          "metadata": {},
          "execution_count": 56
        }
      ]
    },
    {
      "cell_type": "code",
      "source": [
        "bool(list[4])"
      ],
      "metadata": {
        "colab": {
          "base_uri": "https://localhost:8080/"
        },
        "id": "p_IhfqrmYu5N",
        "outputId": "9e0115d0-68a7-4830-95bd-eef75d62cb3e"
      },
      "execution_count": null,
      "outputs": [
        {
          "output_type": "execute_result",
          "data": {
            "text/plain": [
              "True"
            ]
          },
          "metadata": {},
          "execution_count": 57
        }
      ]
    },
    {
      "cell_type": "code",
      "source": [
        "str(list[4])"
      ],
      "metadata": {
        "colab": {
          "base_uri": "https://localhost:8080/",
          "height": 35
        },
        "id": "yjw6cTGMYx-6",
        "outputId": "e26055f9-b69c-4686-f026-af50f7bbfe05"
      },
      "execution_count": null,
      "outputs": [
        {
          "output_type": "execute_result",
          "data": {
            "text/plain": [
              "'8'"
            ],
            "application/vnd.google.colaboratory.intrinsic+json": {
              "type": "string"
            }
          },
          "metadata": {},
          "execution_count": 58
        }
      ]
    },
    {
      "cell_type": "code",
      "source": [
        "int(list[2])"
      ],
      "metadata": {
        "colab": {
          "base_uri": "https://localhost:8080/"
        },
        "id": "pEun6TOKY1o9",
        "outputId": "e45ba820-776e-4897-ba48-a1c27ac575de"
      },
      "execution_count": null,
      "outputs": [
        {
          "output_type": "execute_result",
          "data": {
            "text/plain": [
              "7"
            ]
          },
          "metadata": {},
          "execution_count": 60
        }
      ]
    },
    {
      "cell_type": "code",
      "source": [
        "#Q11  Write a program that checks if a number is positive, negative, or zero\n",
        "number=45\n",
        "if number>0:\n",
        "  print(\"positive\")\n",
        "elif number<0:\n",
        "  print(\"negative\")\n",
        "elif number==0:\n",
        "  print(\"zero\")\n",
        "else:\n",
        "  print(\"invalid no\")"
      ],
      "metadata": {
        "colab": {
          "base_uri": "https://localhost:8080/"
        },
        "id": "W3Z9eV9zY4YB",
        "outputId": "3aa2779c-c8c8-4498-892b-ddcd6989215d"
      },
      "execution_count": null,
      "outputs": [
        {
          "output_type": "stream",
          "name": "stdout",
          "text": [
            "positive\n"
          ]
        }
      ]
    },
    {
      "cell_type": "code",
      "source": [
        "#Q12 Write a for loop to print numbers from 1 to 10.\n",
        "for i in range(1,11):\n",
        "  print(i)"
      ],
      "metadata": {
        "colab": {
          "base_uri": "https://localhost:8080/"
        },
        "id": "Ua2E5IH3Z7ER",
        "outputId": "3d28b8f9-a774-429b-de53-ff7b29df609f"
      },
      "execution_count": null,
      "outputs": [
        {
          "output_type": "stream",
          "name": "stdout",
          "text": [
            "1\n",
            "2\n",
            "3\n",
            "4\n",
            "5\n",
            "6\n",
            "7\n",
            "8\n",
            "9\n",
            "10\n"
          ]
        }
      ]
    },
    {
      "cell_type": "code",
      "source": [
        "#Q13  Write a Python program to find the sum of all even numbers between 1 and 50.\n",
        "sum_even = 0\n",
        "for number in range(1,51):\n",
        "  if number%2==0:\n",
        "    sum_even+=number\n",
        "print(\"sum of even no is:\" , sum_even)"
      ],
      "metadata": {
        "colab": {
          "base_uri": "https://localhost:8080/"
        },
        "id": "LsI88m9MaD4N",
        "outputId": "ad84aa0a-5526-4653-dbbb-fc56a6625bce"
      },
      "execution_count": null,
      "outputs": [
        {
          "output_type": "stream",
          "name": "stdout",
          "text": [
            "sum of even no is: 650\n"
          ]
        }
      ]
    },
    {
      "cell_type": "code",
      "source": [
        "#Q14 Write a program to reverse a string using a while loop\n",
        "count=5\n",
        "while count>0:\n",
        "  print(count)\n",
        "  count=count-1"
      ],
      "metadata": {
        "colab": {
          "base_uri": "https://localhost:8080/"
        },
        "id": "aQrFvhp9aXfl",
        "outputId": "3d313be8-faf3-4511-aec2-ca9ee6c4c5ae"
      },
      "execution_count": null,
      "outputs": [
        {
          "output_type": "stream",
          "name": "stdout",
          "text": [
            "5\n",
            "4\n",
            "3\n",
            "2\n",
            "1\n"
          ]
        }
      ]
    },
    {
      "cell_type": "code",
      "source": [
        "#Q15 Write a Python program to calculate the factorial of a number provided by the user using a while loop.\n",
        "num=int(input(\"Enter a number:\"))\n",
        "factorial=1\n",
        "i=1\n",
        "while i<=num:\n",
        "  factorial*=i\n",
        "  i+=1\n",
        "  print(f\"the factorial of {num} is {factorial}\")"
      ],
      "metadata": {
        "colab": {
          "base_uri": "https://localhost:8080/"
        },
        "id": "CFxkqcqVaqCA",
        "outputId": "f0ad62fe-f9e8-4b2a-8998-a0144ef44ddf"
      },
      "execution_count": null,
      "outputs": [
        {
          "output_type": "stream",
          "name": "stdout",
          "text": [
            "Enter a number:5\n",
            "the factorial of 5 is 1\n",
            "the factorial of 5 is 2\n",
            "the factorial of 5 is 6\n",
            "the factorial of 5 is 24\n",
            "the factorial of 5 is 120\n"
          ]
        }
      ]
    },
    {
      "cell_type": "code",
      "source": [],
      "metadata": {
        "id": "WYcRN9gObDBW"
      },
      "execution_count": null,
      "outputs": []
    }
  ]
}